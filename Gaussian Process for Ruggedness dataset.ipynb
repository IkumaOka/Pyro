{
 "cells": [
  {
   "cell_type": "code",
   "execution_count": 1,
   "metadata": {},
   "outputs": [],
   "source": [
    "# 変数リセット\n",
    "%reset -s -f"
   ]
  },
  {
   "cell_type": "code",
   "execution_count": 2,
   "metadata": {},
   "outputs": [],
   "source": [
    "import os\n",
    "from functools import partial\n",
    "import torch\n",
    "import numpy as np\n",
    "import pandas as pd\n",
    "import seaborn as sns\n",
    "import matplotlib.pyplot as plt\n",
    "\n",
    "\n",
    "import pyro\n",
    "import pyro.contrib.gp as gp\n",
    "import pyro.distributions as dist\n",
    "\n",
    "# for CI testing\n",
    "smoke_test = ('CI' in os.environ)\n",
    "# assert pyro.__version__.startswith('1.3.1')\n",
    "pyro.enable_validation(True)\n",
    "pyro.set_rng_seed(1)\n",
    "pyro.enable_validation(True)\n",
    "\n",
    "\n",
    "# Set matplotlib settings\n",
    "%matplotlib inline\n",
    "plt.style.use('default')\n",
    "\n",
    "os.environ['KMP_DUPLICATE_LIB_OK']='True'"
   ]
  },
  {
   "cell_type": "code",
   "execution_count": 3,
   "metadata": {},
   "outputs": [],
   "source": [
    "def plot(plot_observed_data=False, plot_predictions=False, n_prior_samples=0,\n",
    "         model=None, kernel=None, n_test=500):\n",
    "\n",
    "    plt.figure(figsize=(12, 6))\n",
    "    if plot_observed_data:\n",
    "        plt.plot(x.numpy(), y.numpy(), 'kx')\n",
    "    if plot_predictions:\n",
    "        Xtest = torch.linspace(-0.5, 5.5, n_test)  # test inputs\n",
    "        # compute predictive mean and variance\n",
    "        with torch.no_grad():\n",
    "            if type(model) == gp.models.VariationalSparseGP:\n",
    "                mean, cov = model(Xtest, full_cov=True)\n",
    "            else:\n",
    "                mean, cov = model(Xtest, full_cov=True, noiseless=False)\n",
    "        sd = cov.diag().sqrt()  # standard deviation at each input point x\n",
    "        plt.plot(Xtest.numpy(), mean.numpy(), 'r', lw=2)  # plot the mean\n",
    "        plt.fill_between(Xtest.numpy(),  # plot the two-sigma uncertainty about the mean\n",
    "                         (mean - 2.0 * sd).numpy(),\n",
    "                         (mean + 2.0 * sd).numpy(),\n",
    "                         color='C0', alpha=0.3)\n",
    "    if n_prior_samples > 0:  # plot samples from the GP prior\n",
    "        Xtest = torch.linspace(-0.5, 5.5, n_test)  # test inputs\n",
    "        noise = (model.noise if type(model) != gp.models.VariationalSparseGP\n",
    "                 else model.likelihood.variance)\n",
    "        cov = kernel.forward(Xtest) + noise.expand(n_test).diag()\n",
    "        samples = dist.MultivariateNormal(torch.zeros(n_test), covariance_matrix=cov)\\\n",
    "                      .sample(sample_shape=(n_prior_samples,))\n",
    "        plt.plot(Xtest.numpy(), samples.numpy().T, lw=2, alpha=0.4)\n",
    "\n",
    "    plt.xlim(-0.5, 5.5)"
   ]
  },
  {
   "cell_type": "code",
   "execution_count": 4,
   "metadata": {},
   "outputs": [
    {
     "data": {
      "text/html": [
       "<div>\n",
       "<style scoped>\n",
       "    .dataframe tbody tr th:only-of-type {\n",
       "        vertical-align: middle;\n",
       "    }\n",
       "\n",
       "    .dataframe tbody tr th {\n",
       "        vertical-align: top;\n",
       "    }\n",
       "\n",
       "    .dataframe thead th {\n",
       "        text-align: right;\n",
       "    }\n",
       "</style>\n",
       "<table border=\"1\" class=\"dataframe\">\n",
       "  <thead>\n",
       "    <tr style=\"text-align: right;\">\n",
       "      <th></th>\n",
       "      <th>cont_africa</th>\n",
       "      <th>rugged</th>\n",
       "      <th>rgdppc_2000</th>\n",
       "    </tr>\n",
       "  </thead>\n",
       "  <tbody>\n",
       "    <tr>\n",
       "      <td>2</td>\n",
       "      <td>1</td>\n",
       "      <td>0.858</td>\n",
       "      <td>7.492609</td>\n",
       "    </tr>\n",
       "    <tr>\n",
       "      <td>4</td>\n",
       "      <td>0</td>\n",
       "      <td>3.427</td>\n",
       "      <td>8.216929</td>\n",
       "    </tr>\n",
       "    <tr>\n",
       "      <td>7</td>\n",
       "      <td>0</td>\n",
       "      <td>0.769</td>\n",
       "      <td>9.933263</td>\n",
       "    </tr>\n",
       "    <tr>\n",
       "      <td>8</td>\n",
       "      <td>0</td>\n",
       "      <td>0.775</td>\n",
       "      <td>9.407032</td>\n",
       "    </tr>\n",
       "    <tr>\n",
       "      <td>9</td>\n",
       "      <td>0</td>\n",
       "      <td>2.688</td>\n",
       "      <td>7.792343</td>\n",
       "    </tr>\n",
       "    <tr>\n",
       "      <td>...</td>\n",
       "      <td>...</td>\n",
       "      <td>...</td>\n",
       "      <td>...</td>\n",
       "    </tr>\n",
       "    <tr>\n",
       "      <td>229</td>\n",
       "      <td>0</td>\n",
       "      <td>1.677</td>\n",
       "      <td>8.488849</td>\n",
       "    </tr>\n",
       "    <tr>\n",
       "      <td>230</td>\n",
       "      <td>0</td>\n",
       "      <td>2.323</td>\n",
       "      <td>6.669180</td>\n",
       "    </tr>\n",
       "    <tr>\n",
       "      <td>231</td>\n",
       "      <td>1</td>\n",
       "      <td>1.761</td>\n",
       "      <td>9.150497</td>\n",
       "    </tr>\n",
       "    <tr>\n",
       "      <td>232</td>\n",
       "      <td>1</td>\n",
       "      <td>0.533</td>\n",
       "      <td>6.651585</td>\n",
       "    </tr>\n",
       "    <tr>\n",
       "      <td>233</td>\n",
       "      <td>1</td>\n",
       "      <td>1.194</td>\n",
       "      <td>7.823732</td>\n",
       "    </tr>\n",
       "  </tbody>\n",
       "</table>\n",
       "<p>170 rows × 3 columns</p>\n",
       "</div>"
      ],
      "text/plain": [
       "     cont_africa  rugged  rgdppc_2000\n",
       "2              1   0.858     7.492609\n",
       "4              0   3.427     8.216929\n",
       "7              0   0.769     9.933263\n",
       "8              0   0.775     9.407032\n",
       "9              0   2.688     7.792343\n",
       "..           ...     ...          ...\n",
       "229            0   1.677     8.488849\n",
       "230            0   2.323     6.669180\n",
       "231            1   1.761     9.150497\n",
       "232            1   0.533     6.651585\n",
       "233            1   1.194     7.823732\n",
       "\n",
       "[170 rows x 3 columns]"
      ]
     },
     "execution_count": 4,
     "metadata": {},
     "output_type": "execute_result"
    }
   ],
   "source": [
    "# 地形の不整地とGDPの相関\n",
    "DATA_URL = \"https://d2hg8soec8ck9v.cloudfront.net/datasets/rugged_data.csv\"\n",
    "data = pd.read_csv(DATA_URL, encoding=\"ISO-8859-1\")\n",
    "df = data[[\"cont_africa\", \"rugged\", \"rgdppc_2000\"]]\n",
    "# \"rgdppc_2000\"カラムでNaNとinfを取り除く\n",
    "df = df[np.isfinite(df.rgdppc_2000)]\n",
    "df[\"rgdppc_2000\"] = np.log(df[\"rgdppc_2000\"])\n",
    "df"
   ]
  },
  {
   "cell_type": "code",
   "execution_count": 5,
   "metadata": {},
   "outputs": [],
   "source": [
    "from torch import nn\n",
    "from pyro.nn import PyroModule"
   ]
  },
  {
   "cell_type": "code",
   "execution_count": 6,
   "metadata": {},
   "outputs": [],
   "source": [
    "# \"cont_africa\"と\"rugged\"をかけた値を新しいカラム\"cont_africa_x_rugged\"にセット\n",
    "df[\"cont_africa_x_rugged\"] = df[\"cont_africa\"] * df[\"rugged\"]"
   ]
  },
  {
   "cell_type": "code",
   "execution_count": 7,
   "metadata": {},
   "outputs": [
    {
     "data": {
      "text/plain": [
       "torch.Size([170, 4])"
      ]
     },
     "execution_count": 7,
     "metadata": {},
     "output_type": "execute_result"
    }
   ],
   "source": [
    "data = torch.tensor(df[[\"cont_africa\", \"rugged\", \"cont_africa_x_rugged\", \"rgdppc_2000\"]].values,\n",
    "                        dtype=torch.float)\n",
    "data.shape"
   ]
  },
  {
   "cell_type": "code",
   "execution_count": 8,
   "metadata": {},
   "outputs": [
    {
     "data": {
      "text/plain": [
       "torch.Size([170])"
      ]
     },
     "execution_count": 8,
     "metadata": {},
     "output_type": "execute_result"
    }
   ],
   "source": [
    "# x, y = data[:, :-1], data[:, -1]\n",
    "x, y = data[:, 1], data[:, -1]\n",
    "x.shape"
   ]
  },
  {
   "cell_type": "code",
   "execution_count": 9,
   "metadata": {},
   "outputs": [],
   "source": [
    "kernel = gp.kernels.RBF(input_dim=1, variance=torch.tensor(5.),\n",
    "                        lengthscale=torch.tensor(10.))\n",
    "gpr = gp.models.GPRegression(x, y, kernel, noise=torch.tensor(1.))"
   ]
  },
  {
   "cell_type": "code",
   "execution_count": 10,
   "metadata": {},
   "outputs": [],
   "source": [
    "optimizer = torch.optim.Adam(gpr.parameters(), lr=0.005)\n",
    "loss_fn = pyro.infer.Trace_ELBO().differentiable_loss\n",
    "losses = []\n",
    "num_steps = 2500 if not smoke_test else 2\n",
    "for i in range(num_steps):\n",
    "    optimizer.zero_grad()\n",
    "    loss = loss_fn(gpr.model, gpr.guide)\n",
    "    loss.backward()\n",
    "    optimizer.step()\n",
    "    losses.append(loss.item())"
   ]
  },
  {
   "cell_type": "code",
   "execution_count": 11,
   "metadata": {},
   "outputs": [
    {
     "data": {
      "image/png": "[encoded data removed]",
      "text/plain": [
       "<Figure size 432x288 with 1 Axes>"
      ]
     },
     "metadata": {
      "needs_background": "light"
     },
     "output_type": "display_data"
    }
   ],
   "source": [
    "plt.plot(losses);"
   ]
  },
  {
   "cell_type": "code",
   "execution_count": 12,
   "metadata": {},
   "outputs": [
    {
     "data": {
      "text/plain": [
       "array([0.08954604, 0.09018278, 0.08958863, 0.08967375, 0.08975879,\n",
       "       0.09001343, 0.08984375, 0.09022507, 0.08958863, 0.08954604,\n",
       "       0.08980128, 0.08984375, 0.08980128, 0.08984375, 0.08950343,\n",
       "       0.08984375, 0.08992863, 0.08958863, 0.0898862 , 0.08967375,\n",
       "       0.08954604, 0.08980128, 0.08954604, 0.08984375, 0.08984375,\n",
       "       0.08967375, 0.09160968, 0.0896312 , 0.08954604, 0.08984375,\n",
       "       0.08975879, 0.08971629, 0.08984375, 0.08954604, 0.09005579,\n",
       "       0.08954604, 0.08950343, 0.08975879, 0.08954604, 0.08967375,\n",
       "       0.08958863, 0.08992863, 0.08984375, 0.08950343, 0.08975879,\n",
       "       0.08958863, 0.08971629, 0.0896312 , 0.08958863, 0.0898862 ,\n",
       "       0.08958863, 0.08971629, 0.08954604, 0.08954604, 0.08984375,\n",
       "       0.08971629, 0.09043623, 0.08984375, 0.0896312 , 0.08967375,\n",
       "       0.08971629, 0.08971629, 0.08992863, 0.08958863, 0.08958863,\n",
       "       0.08967375, 0.08967375, 0.08950343, 0.08958863, 0.08958863,\n",
       "       0.08967375, 0.08954604, 0.08958863, 0.08975879, 0.0896312 ,\n",
       "       0.08950343, 0.08958863, 0.0896312 , 0.08954604, 0.08954604,\n",
       "       0.08954604, 0.08975879, 0.0896312 , 0.09106674, 0.08975879,\n",
       "       0.09001343, 0.08954604, 0.08975879, 0.0896312 , 0.09094099,\n",
       "       0.08950343, 0.0896312 , 0.09415602, 0.08984375, 0.08954604,\n",
       "       0.08984375, 0.0896312 , 0.08958863, 0.08954604, 0.08958863,\n",
       "       0.08950343, 0.08975879, 0.08984375, 0.08958863, 0.08954604,\n",
       "       0.08967375, 0.08992863, 0.08950343, 0.08958863, 0.08958863,\n",
       "       0.08950343, 0.08954604, 0.08984375, 0.08971629, 0.08954604,\n",
       "       0.08997104, 0.08958863, 0.09210802, 0.08958863, 0.08950343,\n",
       "       0.08954604, 0.08950343, 0.08954604, 0.08958863, 0.08954604,\n",
       "       0.08971629, 0.08950343, 0.08954604, 0.08975879, 0.08954604,\n",
       "       0.08958863, 0.08941815, 0.09005579, 0.08950343, 0.08971629,\n",
       "       0.08975879, 0.08997104, 0.08950343, 0.08971629, 0.08954604,\n",
       "       0.08954604, 0.0896312 , 0.08967375, 0.08992863, 0.09181765,\n",
       "       0.0896312 , 0.08975879, 0.08967375, 0.08954604, 0.09256247,\n",
       "       0.0896312 , 0.08967375, 0.08967375, 0.08967375, 0.08975879,\n",
       "       0.0896312 , 0.08950343, 0.08975879, 0.08971629, 0.08954604,\n",
       "       0.08975879, 0.08992863, 0.08967375, 0.08954604, 0.08950343,\n",
       "       0.08958863, 0.08958863, 0.08950343, 0.08975879, 0.08958863],\n",
       "      dtype=float32)"
      ]
     },
     "execution_count": 12,
     "metadata": {},
     "output_type": "execute_result"
    }
   ],
   "source": [
    "f_loc, f_cov = gpr(x)\n",
    "f_loc.shape\n",
    "std =np.sqrt(f_cov.detach().cpu().numpy()) \n",
    "std"
   ]
  },
  {
   "cell_type": "code",
   "execution_count": 13,
   "metadata": {},
   "outputs": [
    {
     "data": {
      "text/plain": [
       "tensor([8.5162, 8.5163, 8.5161, 8.5162, 8.5164, 8.5160, 8.5162, 8.5162, 8.5161,\n",
       "        8.5164, 8.5161, 8.5162, 8.5160, 8.5161, 8.5161, 8.5161, 8.5161, 8.5166,\n",
       "        8.5161, 8.5160, 8.5162, 8.5160, 8.5164, 8.5161, 8.5161, 8.5162, 8.5161,\n",
       "        8.5166, 8.5162, 8.5161, 8.5162, 8.5162, 8.5162, 8.5162, 8.5163, 8.5166,\n",
       "        8.5163, 8.5165, 8.5162, 8.5160, 8.5163, 8.5159, 8.5161, 8.5162, 8.5162,\n",
       "        8.5162, 8.5161, 8.5166, 8.5162, 8.5162, 8.5163, 8.5161, 8.5160, 8.5163,\n",
       "        8.5162, 8.5162, 8.5162, 8.5161, 8.5160, 8.5162, 8.5163, 8.5162, 8.5164,\n",
       "        8.5164, 8.5163, 8.5162, 8.5165, 8.5163, 8.5162, 8.5167, 8.5162, 8.5164,\n",
       "        8.5163, 8.5162, 8.5167, 8.5161, 8.5162, 8.5167, 8.5164, 8.5163, 8.5163,\n",
       "        8.5160, 8.5161, 8.5161, 8.5161, 8.5160, 8.5164, 8.5162, 8.5165, 8.5162,\n",
       "        8.5163, 8.5160, 8.5164, 8.5161, 8.5162, 8.5162, 8.5160, 8.5164, 8.5162,\n",
       "        8.5163, 8.5164, 8.5165, 8.5162, 8.5160, 8.5164, 8.5161, 8.5162, 8.5163,\n",
       "        8.5164, 8.5163, 8.5161, 8.5163, 8.5161, 8.5161, 8.5163, 8.5161, 8.5165,\n",
       "        8.5159, 8.5162, 8.5163, 8.5162, 8.5161, 8.5162, 8.5163, 8.5163, 8.5161,\n",
       "        8.5161, 8.5161, 8.5162, 8.5164, 8.5162, 8.5162, 8.5163, 8.5161, 8.5162,\n",
       "        8.5162, 8.5160, 8.5161, 8.5163, 8.5163, 8.5163, 8.5165, 8.5161, 8.5166,\n",
       "        8.5160, 8.5161, 8.5161, 8.5162, 8.5164, 8.5162, 8.5162, 8.5162, 8.5160,\n",
       "        8.5160, 8.5167, 8.5160, 8.5161, 8.5161, 8.5163, 8.5163, 8.5162, 8.5165,\n",
       "        8.5160, 8.5163, 8.5164, 8.5161, 8.5166, 8.5163, 8.5162, 8.5163],\n",
       "       grad_fn=<AddBackward0>)"
      ]
     },
     "execution_count": 13,
     "metadata": {},
     "output_type": "execute_result"
    }
   ],
   "source": [
    "f_loc"
   ]
  },
  {
   "cell_type": "code",
   "execution_count": 14,
   "metadata": {},
   "outputs": [],
   "source": [
    "fit = df.copy()\n",
    "fit[\"mean\"] = f_loc.detach().cpu().numpy()\n",
    "fit[\"std\"] = std"
   ]
  },
  {
   "cell_type": "code",
   "execution_count": 17,
   "metadata": {},
   "outputs": [
    {
     "data": {
      "image/png": "[encoded data removed]",
      "text/plain": [
       "<Figure size 864x432 with 2 Axes>"
      ]
     },
     "metadata": {
      "needs_background": "light"
     },
     "output_type": "display_data"
    }
   ],
   "source": [
    "fig, ax = plt.subplots(nrows=1, ncols=2, figsize=(12, 6), sharey=True)\n",
    "african_nations = fit[fit[\"cont_africa\"] == 1]\n",
    "non_african_nations = fit[fit[\"cont_africa\"] == 0]\n",
    "fig.suptitle(\"Regression Fit\", fontsize=16)\n",
    "# \"rgdppc_2000\"は上で対数をとって値を入れ直してることに注意。だから縦軸はlog GDP\n",
    "ax[0].plot(non_african_nations[\"rugged\"], non_african_nations[\"rgdppc_2000\"], \"o\")\n",
    "ax[0].plot(non_african_nations[\"rugged\"], non_african_nations[\"mean\"])\n",
    "ax[0].fill_between(non_african_nations[\"rugged\"], non_african_nations[\"mean\"] + 2*non_african_nations[\"std\"], non_african_nations[\"mean\"] - 2*non_african_nations[\"std\"], alpha=.2, color='blue')\n",
    "ax[0].set(xlabel=\"Terrain Ruggedness Index\",\n",
    "          ylabel=\"log GDP (2000)\",\n",
    "          title=\"Non African Nations\")\n",
    "ax[1].plot(african_nations[\"rugged\"], african_nations[\"rgdppc_2000\"], \"o\")\n",
    "ax[1].plot(african_nations[\"rugged\"], african_nations[\"mean\"])\n",
    "ax[1].fill_between(african_nations[\"rugged\"], african_nations[\"mean\"] + 2*african_nations[\"std\"], african_nations[\"mean\"] - 2*african_nations[\"std\"], alpha=.2, color='blue')\n",
    "ax[1].set(xlabel=\"Terrain Ruggedness Index\",\n",
    "          ylabel=\"log GDP (2000)\",\n",
    "          title=\"African Nations\");\n"
   ]
  },
  {
   "cell_type": "code",
   "execution_count": null,
   "metadata": {},
   "outputs": [],
   "source": []
  }
 ],
 "metadata": {
  "kernelspec": {
   "display_name": "Python 3",
   "language": "python",
   "name": "python3"
  },
  "language_info": {
   "codemirror_mode": {
    "name": "ipython",
    "version": 3
   },
   "file_extension": ".py",
   "mimetype": "text/x-python",
   "name": "python",
   "nbconvert_exporter": "python",
   "pygments_lexer": "ipython3",
   "version": "3.7.4"
  }
 },
 "nbformat": 4,
 "nbformat_minor": 2
}
